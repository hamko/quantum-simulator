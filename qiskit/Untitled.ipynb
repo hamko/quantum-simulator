{
 "cells": [
  {
   "cell_type": "code",
   "execution_count": 63,
   "id": "46829356-35a9-4c73-99aa-c8f9f7fab25e",
   "metadata": {},
   "outputs": [
    {
     "name": "stdout",
     "output_type": "stream",
     "text": [
      "000\n",
      "Statevector([1.+0.j, 0.+0.j, 0.+0.j, 0.+0.j, 0.+0.j, 0.+0.j, 0.+0.j,\n",
      "             0.+0.j],\n",
      "            dims=(2, 2, 2))\n",
      "001\n",
      "Statevector([ 0.00000000e+00+0.j,  2.77555756e-16+0.j,  0.00000000e+00+0.j,\n",
      "              0.00000000e+00+0.j,  0.00000000e+00+0.j, -1.00000000e+00+0.j,\n",
      "              0.00000000e+00+0.j,  0.00000000e+00+0.j],\n",
      "            dims=(2, 2, 2))\n",
      "010\n",
      "Statevector([0.+0.j, 0.+0.j, 1.+0.j, 0.+0.j, 0.+0.j, 0.+0.j, 0.+0.j,\n",
      "             0.+0.j],\n",
      "            dims=(2, 2, 2))\n",
      "011\n",
      "Statevector([0.+0.j, 0.+0.j, 0.+0.j, 0.+0.j, 0.+0.j, 0.+0.j, 0.+0.j,\n",
      "             1.+0.j],\n",
      "            dims=(2, 2, 2))\n",
      "100\n",
      "Statevector([0.+0.j, 0.+0.j, 0.+0.j, 0.+0.j, 1.+0.j, 0.+0.j, 0.+0.j,\n",
      "             0.+0.j],\n",
      "            dims=(2, 2, 2))\n",
      "101\n",
      "Statevector([ 0.00000000e+00+0.j, -1.00000000e+00+0.j,  0.00000000e+00+0.j,\n",
      "              0.00000000e+00+0.j,  0.00000000e+00+0.j, -2.77555756e-16+0.j,\n",
      "              0.00000000e+00+0.j,  0.00000000e+00+0.j],\n",
      "            dims=(2, 2, 2))\n",
      "110\n",
      "Statevector([0.+0.j, 0.+0.j, 0.+0.j, 0.+0.j, 0.+0.j, 0.+0.j, 1.+0.j,\n",
      "             0.+0.j],\n",
      "            dims=(2, 2, 2))\n",
      "111\n",
      "Statevector([0.+0.j, 0.+0.j, 0.+0.j, 1.+0.j, 0.+0.j, 0.+0.j, 0.+0.j,\n",
      "             0.+0.j],\n",
      "            dims=(2, 2, 2))\n"
     ]
    }
   ],
   "source": [
    "from qiskit import QuantumRegister\n",
    "from qiskit import QuantumCircuit\n",
    "import numpy as np\n",
    "from qiskit.quantum_info import Statevector\n",
    "from qiskit import Aer, execute\n",
    "\n",
    "n=3\n",
    "\n",
    "for s in ['000', '001', '010', '011', '100', '101', '110', '111']:\n",
    "    print(s)\n",
    "    # 量子回路を作成\n",
    "    qc = QuantumCircuit(n, n)\n",
    "    \n",
    "    qc.initialize(Statevector.from_label(s).data, range(n))\n",
    "    \n",
    "    qc.ry((2*np.pi)*1/8*2, 2)\n",
    "    qc.cx(1, 2)\n",
    "    qc.ry((2*np.pi)*1/8*2, 2)\n",
    "    qc.cx(0, 2)\n",
    "    qc.ry(-(2*np.pi)*1/8*2, 2)\n",
    "    qc.cx(1, 2)\n",
    "    qc.ry(-(2*np.pi)*1/8*2, 2)\n",
    "    #qc.measure([2], [2])\n",
    "    \n",
    "    qc.draw(output=\"mpl\", style=\"iqp\")\n",
    "    vector_sim = Aer.get_backend('statevector_simulator')\n",
    "    Aer.backends()\n",
    "    job = execute(qc, vector_sim)\n",
    "    print(job.result().get_statevector())"
   ]
  },
  {
   "cell_type": "code",
   "execution_count": 75,
   "id": "cd57f03b-d6ea-424a-8135-e21799ac96b5",
   "metadata": {},
   "outputs": [
    {
     "name": "stdout",
     "output_type": "stream",
     "text": [
      "00\n",
      "Statevector([-0.+0.j, -1.+0.j,  0.+0.j,  0.+0.j],\n",
      "            dims=(2, 2))\n",
      "01\n",
      "Statevector([-1.00000000e+00+0.j, -0.00000000e+00+0.j,  2.22044605e-16+0.j,\n",
      "              0.00000000e+00+0.j],\n",
      "            dims=(2, 2))\n",
      "10\n",
      "Statevector([-0.+0.j,  0.+0.j,  0.+0.j,  1.+0.j],\n",
      "            dims=(2, 2))\n",
      "11\n",
      "Statevector([-2.22044605e-16+0.j, -0.00000000e+00+0.j, -1.00000000e+00+0.j,\n",
      "              0.00000000e+00+0.j],\n",
      "            dims=(2, 2))\n"
     ]
    }
   ],
   "source": [
    "from qiskit import QuantumRegister\n",
    "from qiskit import QuantumCircuit\n",
    "import numpy as np\n",
    "from qiskit.quantum_info import Statevector\n",
    "from qiskit import Aer, execute\n",
    "\n",
    "n=2\n",
    "\n",
    "for s in ['00', '01', '10', '11']:\n",
    "    print(s)\n",
    "    # 量子回路を作成\n",
    "    qc = QuantumCircuit(n, n)\n",
    "    \n",
    "    qc.initialize(Statevector.from_label(s).data, range(n))\n",
    "\n",
    "    qc.x(0)\n",
    "    qc.ry((2*np.pi)*1/8*2, 1)\n",
    "    qc.cx(0, 1)\n",
    "    qc.ry((2*np.pi)*3/8*2, 1)\n",
    "    #qc.measure([2], [2])\n",
    "    \n",
    "    qc.draw(output=\"mpl\", style=\"iqp\")\n",
    "\n",
    "    vector_sim = Aer.get_backend('statevector_simulator')\n",
    "    Aer.backends()\n",
    "    job = execute(qc, vector_sim)\n",
    "    print(job.result().get_statevector())"
   ]
  }
 ],
 "metadata": {
  "kernelspec": {
   "display_name": "Python 3 (ipykernel)",
   "language": "python",
   "name": "python3"
  },
  "language_info": {
   "codemirror_mode": {
    "name": "ipython",
    "version": 3
   },
   "file_extension": ".py",
   "mimetype": "text/x-python",
   "name": "python",
   "nbconvert_exporter": "python",
   "pygments_lexer": "ipython3",
   "version": "3.8.5"
  }
 },
 "nbformat": 4,
 "nbformat_minor": 5
}
